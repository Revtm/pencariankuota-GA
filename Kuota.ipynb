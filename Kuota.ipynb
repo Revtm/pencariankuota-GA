{
 "cells": [
  {
   "cell_type": "markdown",
   "metadata": {},
   "source": [
    "## Daftar Paket Kuota Axis"
   ]
  },
  {
   "cell_type": "markdown",
   "metadata": {},
   "source": [
    "> Kasus yang diangkat kombinasi paket kuota axis wkwkwk. Di bawah ini ada 19 jenis paket (Sumber *123# dan voucher AIGO counter pulsaseluler)"
   ]
  },
  {
   "cell_type": "code",
   "execution_count": 105,
   "metadata": {},
   "outputs": [],
   "source": [
    "kartu1 = {\"provider\" : \"Axis\",\n",
    "          \"paket\" : \"AIGO Mini 1\",\n",
    "          \"harga\" : 9000,\n",
    "          \"kuota24\" : 1,\n",
    "          \"kuotamalam\" : 0,\n",
    "          \"masa\" : 5 }\n",
    "kartu2 = {\"provider\" : \"Axis\",\n",
    "          \"paket\" : \"AIGO 1\",\n",
    "          \"harga\" : 14000,\n",
    "          \"kuota24\" : 1,\n",
    "          \"kuotamalam\" : 0,\n",
    "          \"masa\" : 30 }\n",
    "kartu3 = {\"provider\" : \"Axis\",\n",
    "          \"paket\" : \"AIGO Mini 2\",\n",
    "          \"harga\" : 16000,\n",
    "          \"kuota24\" : 2,\n",
    "          \"kuotamalam\" : 0,\n",
    "          \"masa\" : 7 }\n",
    "kartu4= {\"provider\" : \"Axis\",\n",
    "          \"paket\" : \"AIGO Mini 3\",\n",
    "          \"harga\" : 21500,\n",
    "          \"kuota24\" : 3,\n",
    "          \"kuotamalam\" : 0,\n",
    "          \"masa\" : 15}\n",
    "kartu5= {\"provider\" : \"Axis\",\n",
    "          \"paket\" : \"AIGO 2\",\n",
    "          \"harga\" : 23500,\n",
    "          \"kuota24\" : 2,\n",
    "          \"kuotamalam\" : 0,\n",
    "          \"masa\" : 30}\n",
    "kartu6= {\"provider\" : \"Axis\",\n",
    "          \"paket\" : \"AIGO 3\",\n",
    "          \"harga\" : 29000,\n",
    "          \"kuota24\" : 3,\n",
    "          \"kuotamalam\" : 0,\n",
    "          \"masa\" : 30}\n",
    "kartu7= {\"provider\" : \"Axis\",\n",
    "          \"paket\" : \"AIGO Mini 5\",\n",
    "          \"harga\" : 32000,\n",
    "          \"kuota24\" : 5,\n",
    "          \"kuotamalam\" : 0,\n",
    "          \"masa\" : 15}\n",
    "kartu8= {\"provider\" : \"Axis\",\n",
    "          \"paket\" : \"AIGO 5\",\n",
    "          \"harga\" : 44000,\n",
    "          \"kuota24\" : 5,\n",
    "          \"kuotamalam\" : 0,\n",
    "          \"masa\" : 30}\n",
    "kartu9= {\"provider\" : \"Axis\",\n",
    "          \"paket\" : \"AIGO 8\",\n",
    "          \"harga\" : 59000,\n",
    "          \"kuota24\" : 8,\n",
    "          \"kuotamalam\" : 0,\n",
    "          \"masa\" : 30}\n",
    "# ^^^\n",
    "#sumber : pulsaseluler.com\n",
    "\n",
    "#sumber : *123#\n",
    "#vvv\n",
    "\n",
    "kartu10= {\"provider\" : \"Axis\",\n",
    "          \"paket\" : \"BRONET harian 3\",\n",
    "          \"harga\" : 4000,\n",
    "          \"kuota24\" : 0.5,\n",
    "          \"kuotamalam\" : 0,\n",
    "          \"masa\" : 1}\n",
    "kartu11= {\"provider\" : \"Axis\",\n",
    "          \"paket\" : \"BRONET harian 4\",\n",
    "          \"harga\" : 6000,\n",
    "          \"kuota24\" : 1,\n",
    "          \"kuotamalam\" : 0,\n",
    "          \"masa\" : 1}\n",
    "kartu12= {\"provider\" : \"Axis\",\n",
    "          \"paket\" : \"BRONET Regular 1\",\n",
    "          \"harga\" : 1700,\n",
    "          \"kuota24\" : 0.025,\n",
    "          \"kuotamalam\" : 0.025,\n",
    "          \"masa\" : 1}\n",
    "kartu13= {\"provider\" : \"Axis\",\n",
    "          \"paket\" : \"BRONET Regular 2\",\n",
    "          \"harga\" : 7500,\n",
    "          \"kuota24\" : 0.150,\n",
    "          \"kuotamalam\" : 0.150,\n",
    "          \"masa\" : 7}\n",
    "kartu14= {\"provider\" : \"Axis\",\n",
    "          \"paket\" : \"BRONET Regular 3\",\n",
    "          \"harga\" : 14900,\n",
    "          \"kuota24\" : 0.5,\n",
    "          \"kuotamalam\" : 0.5,\n",
    "          \"masa\" : 30}\n",
    "kartu15= {\"provider\" : \"Axis\",\n",
    "          \"paket\" : \"BRONET Regular 4\",\n",
    "          \"harga\" : 24900,\n",
    "          \"kuota24\" : 1,\n",
    "          \"kuotamalam\" : 1,\n",
    "          \"masa\" : 30}\n",
    "kartu16= {\"provider\" : \"Axis\",\n",
    "          \"paket\" : \"BRONET Regular 5\",\n",
    "          \"harga\" : 34900,\n",
    "          \"kuota24\" : 1.5,\n",
    "          \"kuotamalam\" : 1.5,\n",
    "          \"masa\" : 30}\n",
    "kartu17= {\"provider\" : \"Axis\",\n",
    "          \"paket\" : \"BRONET Regular 6\",\n",
    "          \"harga\" : 49900,\n",
    "          \"kuota24\" : 2.5,\n",
    "          \"kuotamalam\" : 2.5,\n",
    "          \"masa\" : 30}\n",
    "kartu18= {\"provider\" : \"Axis\",\n",
    "          \"paket\" : \"OBOR 1\",\n",
    "          \"harga\" : 5000,\n",
    "          \"kuota24\" : 0,\n",
    "          \"kuotamalam\" : 2,\n",
    "          \"masa\" : 3}\n",
    "kartu19= {\"provider\" : \"Axis\",\n",
    "          \"paket\" : \"OBOR 2\",\n",
    "          \"harga\" : 18900,\n",
    "          \"kuota24\" : 0,\n",
    "          \"kuotamalam\" : 8,\n",
    "          \"masa\" : 7}\n",
    "\n",
    "kartu =[kartu1,kartu2,kartu3,kartu4,kartu5,kartu6,kartu7,kartu8,kartu9,kartu10, kartu11, \n",
    "        kartu12,kartu13,kartu14,kartu15,kartu16,kartu17,kartu18,kartu19]\n",
    "\n",
    "sizekartu = len(kartu)-1"
   ]
  },
  {
   "cell_type": "markdown",
   "metadata": {},
   "source": [
    "## Kelas Kuota"
   ]
  },
  {
   "cell_type": "code",
   "execution_count": 106,
   "metadata": {},
   "outputs": [],
   "source": [
    "class kuota:\n",
    "    def __init__(this, kartu):\n",
    "        this.provider = kartu[\"provider\"]\n",
    "        this.paket = kartu[\"paket\"]\n",
    "        this.harga = kartu[\"harga\"]\n",
    "        this.kuota24 = kartu[\"kuota24\"]\n",
    "        this.kuotamalam = kartu[\"kuotamalam\"]\n",
    "        this.lamapaket = kartu[\"masa\"]\n",
    "    \n",
    "    def cekpaket(this):\n",
    "        print(\"provider:\", this.provider)\n",
    "        print(\"paket:\",this.paket)\n",
    "        print(\"harga:\",this.harga)\n",
    "        print(\"kuota 24h:\",this.kuota24)\n",
    "        print(\"kuota mlm:\",this.kuotamalam)\n",
    "        print(\"masa pakai:\",this.lamapaket)"
   ]
  },
  {
   "cell_type": "markdown",
   "metadata": {},
   "source": [
    "## Algoritma Genetika (modifikasi dari tugas kapita kemarin)"
   ]
  },
  {
   "cell_type": "markdown",
   "metadata": {},
   "source": [
    "### Fungsi Untuk Membentuk Individu"
   ]
  },
  {
   "cell_type": "code",
   "execution_count": 107,
   "metadata": {},
   "outputs": [],
   "source": [
    "from random import randint\n",
    "\n",
    "def individual (length, kartu, min, max):\n",
    "    return [kuota(kartu[randint(min,max)]) for x in range(length)]"
   ]
  },
  {
   "cell_type": "markdown",
   "metadata": {},
   "source": [
    "### Fungsi Untuk Membentuk Populasi"
   ]
  },
  {
   "cell_type": "code",
   "execution_count": 108,
   "metadata": {},
   "outputs": [],
   "source": [
    "def population(count, kartu, length, min, max):\n",
    "    return[individual(length, kartu, min, max) for x in range(count)]"
   ]
  },
  {
   "cell_type": "markdown",
   "metadata": {},
   "source": [
    "### Kelas Target Pembeli dan Fungsi Fitness"
   ]
  },
  {
   "cell_type": "markdown",
   "metadata": {},
   "source": [
    "> Kelas target pembeli untuk menampung 4 nilai kebutuhan calon pembeli"
   ]
  },
  {
   "cell_type": "code",
   "execution_count": 109,
   "metadata": {},
   "outputs": [],
   "source": [
    "class targetpembeli:\n",
    "    def __init__(this,harga, kuota24, kuotamalam, lamapakai):\n",
    "        this.harga = harga\n",
    "        this.kuota24 = kuota24\n",
    "        this.kuotamalam = kuotamalam\n",
    "        this.lamapakai = lamapakai\n",
    "\n",
    "def fitness(individu, target):\n",
    "    totalharga = 0\n",
    "    totalkuota24 = 0\n",
    "    totalkuotamalam = 0\n",
    "    totallamapakai = 0\n",
    "    \n",
    "    fitharga = 0\n",
    "    fitkuota24 = 0\n",
    "    fitkuotamalam = 0\n",
    "    fitlamapakai = 0 #idenya klo semua fit berjumlah 4 maka fitness terpenuhi\n",
    "    \n",
    "    for x in individu:\n",
    "        totalharga = totalharga + x.harga\n",
    "        totalkuota24 = totalkuota24 + x.kuota24\n",
    "        totalkuotamalam = totalkuotamalam + x.kuotamalam\n",
    "        totallamapakai = totallamapakai + x.lamapaket\n",
    "        \n",
    "    if(totalharga <= target.harga):\n",
    "        fitharga = 1\n",
    "    if(totalkuota24 >= target.kuota24):\n",
    "        fitkuota24 = 1\n",
    "    if(totalkuotamalam <= target.kuotamalam):\n",
    "        fitkuotamalam = 1\n",
    "    if(totallamapakai >= target.lamapakai):\n",
    "        fitlamapakai = 1\n",
    "    totalfit = fitharga + fitkuota24 + fitkuotamalam + fitlamapakai \n",
    "    return (totalfit)"
   ]
  },
  {
   "cell_type": "markdown",
   "metadata": {},
   "source": [
    "### Fungsi Rata-Rata Fitness Dari Populasi"
   ]
  },
  {
   "cell_type": "code",
   "execution_count": 110,
   "metadata": {},
   "outputs": [],
   "source": [
    "from operator import add\n",
    "from functools import reduce\n",
    "\n",
    "def grade(populasi, target):\n",
    "    summed  = reduce(add, (fitness(x,target) for x in populasi), 0)\n",
    "    return summed/(len(populasi)*1.0)"
   ]
  },
  {
   "cell_type": "markdown",
   "metadata": {},
   "source": [
    "### Mutasi untuk Parent (tidak digunakan)"
   ]
  },
  {
   "cell_type": "code",
   "execution_count": 111,
   "metadata": {},
   "outputs": [],
   "source": [
    "from random import random\n",
    "\n",
    "def mutate(populasi, minbonus, maxbonus):\n",
    "    chance_to_mutate = 0.4\n",
    "    n = 0\n",
    "    bonus = 0\n",
    "    for i in populasi:\n",
    "        r = random()\n",
    "        if chance_to_mutate > r:\n",
    "            \n",
    "            place_to_modify = randint(0, len(i)-1)\n",
    "            bonus = randint(minbonus, maxbonus)\n",
    "            if(r <= 0.2):\n",
    "                i[place_to_modify].kuota24 += bonus\n",
    "            else:\n",
    "                i[place_to_modify].harga -= 1000\n",
    "                \n",
    "        populasi[n] = i\n",
    "        bonus=0\n",
    "        n = n + 1\n",
    "            \n",
    "    return populasi"
   ]
  },
  {
   "cell_type": "markdown",
   "metadata": {},
   "source": [
    "### Mutasi Untuk Individu"
   ]
  },
  {
   "cell_type": "code",
   "execution_count": 129,
   "metadata": {},
   "outputs": [],
   "source": [
    "def mutate_indiv(indiv):\n",
    "    chance_to_mutate = 0.1\n",
    "    bonus = 0\n",
    "    r = random()\n",
    "    if chance_to_mutate > r:        \n",
    "        place_to_modify = randint(0, len(indiv)-1)\n",
    "        if(r <= 0.07):\n",
    "            if( indiv[place_to_modify].paket != \"OBOR 1\" and indiv[place_to_modify].paket != \"OBOR 2\" and indiv[place_to_modify].paket != \"OBOR 3\" and indiv[place_to_modify].paket != \"OBOR 4\"):\n",
    "                indiv[place_to_modify].kuota24 += 0.5            \n",
    "        elif(r <= 0.09):\n",
    "            indiv[place_to_modify].kuotamalam += 0.5            \n",
    "        \n",
    "    return indiv"
   ]
  },
  {
   "cell_type": "markdown",
   "metadata": {},
   "source": [
    "### Fungsi Pembentukan Parent dan Individu Baru "
   ]
  },
  {
   "cell_type": "code",
   "execution_count": 113,
   "metadata": {},
   "outputs": [],
   "source": [
    "import operator\n",
    "\n",
    "def take_first(elem):\n",
    "    return elem[0]\n",
    "\n",
    "def evolve(populasi,target,retain=0.3,random_select=0.05):\n",
    "    \n",
    "    graded=[(fitness(x,target),x) for x in populasi]\n",
    "    graded=[x[1]for x in sorted(graded, key=take_first, reverse=True)] #urutin populasi berdasarkan besar fitness\n",
    "    retain_length=int(len(graded)*retain) #menghitung jumlah dari 30% individu \n",
    "    parents=graded[:retain_length] #mengambil 30% indiv sebagai parent \n",
    "    \n",
    "    #gen diversity biar parent makin rame\n",
    "    for individual in graded[retain_length:]:\n",
    "        r=random()\n",
    "        if random_select>r:\n",
    "            parents.append(individual)\n",
    "    \n",
    "    #mutasi parent (tidak digunakan)\n",
    "    #parents = mutate(parents, 1,2)\n",
    "            \n",
    "#croosover, proses kawin \n",
    "    parents_length=len(parents)\n",
    "    desired_length=len(populasi) - parents_length\n",
    "    \n",
    "    #anak masih 0\n",
    "    children = []\n",
    "    while len(children) < desired_length:\n",
    "        #milih calon pengantin baru\n",
    "        malenumber = randint(0, parents_length-1)\n",
    "        femalenumber = randint(0, parents_length-1)\n",
    "        if malenumber != femalenumber:\n",
    "            male = parents[malenumber]\n",
    "            female = parents[femalenumber]\n",
    "            half=round(len(male)/2)\n",
    "        #penurunan sifat 1/2 emak + 1/2 bapak\n",
    "            child=male[:half]+female[half:]\n",
    "            \n",
    "            e = random()\n",
    "            if(e <= 0.1):\n",
    "                child = mutate_indiv(child) #anggap aja mutasi ini berupa bonus kuota wkwk\n",
    "            #daftarin anak ke KK            \n",
    "            children.append(child)               \n",
    "\n",
    "    parents.extend(children) #jadilah populasi baru\n",
    "    return parents"
   ]
  },
  {
   "cell_type": "markdown",
   "metadata": {},
   "source": [
    "## Percobaan dengan Beberapa Kasus Kebutuhan"
   ]
  },
  {
   "cell_type": "markdown",
   "metadata": {},
   "source": [
    "### Percobaan Pertama"
   ]
  },
  {
   "cell_type": "code",
   "execution_count": 125,
   "metadata": {},
   "outputs": [
    {
     "name": "stdout",
     "output_type": "stream",
     "text": [
      "fitness history awal [2.42]\n",
      "2.42\n",
      "2.68\n",
      "2.83\n",
      "2.91\n",
      "[<__main__.kuota object at 0x7f6ed1ed3ba8>, <__main__.kuota object at 0x7f6ed1ed3898>, <__main__.kuota object at 0x7f6ed1f0eeb8>, <__main__.kuota object at 0x7f6ed1f0ecc0>]\n"
     ]
    }
   ],
   "source": [
    "target = targetpembeli(80000,10,4,30) \n",
    "#kebutuhannya 80k bisa dapet kuota minimal 10GB 24jam, maksimal 4GB midnight, \n",
    "#yang jika ditotal masa pakainya minimal 30hari (pengisian kebutuhan harus logis, \n",
    "#karena 8k nggk mungkin dapet 10GB 24 jam yang 30 hari wkwkwk)\n",
    "\n",
    "p_count=100 #generate 100 individu kyknya cukup\n",
    "i_length=4 #milih 4 buah paket, percobaan bisa mulai dari 2 paket, 3 paket, dst.\n",
    "i_min=0\n",
    "i_max=sizekartu #jumlah paket tersedia\n",
    "p=population(p_count,kartu,i_length,i_min,i_max) #populasi pertama\n",
    "\n",
    "#btw jenis2 paket kuota yg tersedia ada di blok teratas\n",
    "\n",
    "fitness_history=[grade(p, target),]\n",
    "print(\"fitness history awal\",fitness_history)\n",
    "while (fitness(p[0], target) < 4): # 4 itu fitness yng memenuhi target, \n",
    "    p=evolve(p,target)             # ketika semua kebutuhan terpenuhi          \n",
    "    fitness_history.append(grade(p,target))\n",
    "for datum in fitness_history:\n",
    "    print(datum)\n",
    "print(p[0])    "
   ]
  },
  {
   "cell_type": "markdown",
   "metadata": {},
   "source": [
    "> 4 putaran fungsi evolve() sudah menemukan fitness 4, fitness terbaik ada pada parent berindex 0 => p[0]"
   ]
  },
  {
   "cell_type": "code",
   "execution_count": 126,
   "metadata": {},
   "outputs": [
    {
     "name": "stdout",
     "output_type": "stream",
     "text": [
      "--------\n",
      "provider: Axis\n",
      "paket: BRONET harian 3\n",
      "harga: 4000\n",
      "kuota 24h: 0.5\n",
      "kuota mlm: 0\n",
      "masa pakai: 1\n",
      "--------\n",
      "provider: Axis\n",
      "paket: AIGO Mini 5\n",
      "harga: 32000\n",
      "kuota 24h: 5\n",
      "kuota mlm: 0\n",
      "masa pakai: 15\n",
      "--------\n",
      "provider: Axis\n",
      "paket: AIGO Mini 5\n",
      "harga: 32000\n",
      "kuota 24h: 5\n",
      "kuota mlm: 0\n",
      "masa pakai: 15\n",
      "--------\n",
      "provider: Axis\n",
      "paket: BRONET Regular 2\n",
      "harga: 7500\n",
      "kuota 24h: 0.15\n",
      "kuota mlm: 0.15\n",
      "masa pakai: 7\n"
     ]
    }
   ],
   "source": [
    "for z in p[0]: #melihat kombinasi paket terpilih (nilai 4) pada individu[0] dari parent\n",
    "    print(\"--------\")\n",
    "    z.cekpaket()"
   ]
  },
  {
   "cell_type": "markdown",
   "metadata": {},
   "source": [
    "> coba hitung fitness dari p[0] dengan fungsi fitness"
   ]
  },
  {
   "cell_type": "code",
   "execution_count": 116,
   "metadata": {},
   "outputs": [
    {
     "data": {
      "text/plain": [
       "4"
      ]
     },
     "execution_count": 116,
     "metadata": {},
     "output_type": "execute_result"
    }
   ],
   "source": [
    "fitness(p[0], target)\n",
    "# kebutuhan: duit ada 80000,pengen kuota 24 jam minimal 10GB, maksimal kuota malam 4GB,\n",
    "# waktu pakai bisa sampai 30 hari atau lebih\n",
    "\n",
    "#harga = 4000 + 32000 + 32000 + 7500 = 75.500 < 80000 (hemat 4500)\n",
    "#kuota24 dapet = 0.5 + 5 + 5 + 0.15 = 10.65 GB (lebih 650 MB)\n",
    "#masapakai = 1 + 15 + 15 + 7 = 37 hari, ini regis kuotanya jangan sekaligus tapi satu2\n",
    "\n",
    "#pas udah 1 hari, baru regis yg 15 hari, terus klo udh 15 hari, regis lagi yang 15 hari, dst. \n",
    "#ini namanya main cantik wkwkwk\n",
    "\n",
    "# Oh iya karena efek mutasi kuota,\n",
    "# anggep aja karena beda hari registrasi jadi beda juga besar bonusnya wkwkwk\n",
    "\n",
    "# namanya juga mutasi, tpi kadang klo kebutuhannya logis banget bisa dapet yang tanpa mutasi\n",
    "# kayak di atas wkwkwk"
   ]
  },
  {
   "cell_type": "markdown",
   "metadata": {},
   "source": [
    "### Percobaan Kedua"
   ]
  },
  {
   "cell_type": "code",
   "execution_count": 137,
   "metadata": {},
   "outputs": [
    {
     "name": "stdout",
     "output_type": "stream",
     "text": [
      "fitness history awal [2.64]\n",
      "2.64\n",
      "2.85\n"
     ]
    }
   ],
   "source": [
    "target2 = targetpembeli(90000,10,8,25)\n",
    "p_count2=100\n",
    "i_length2=4 #milih 4 buah paket\n",
    "i_min2=0\n",
    "i_max2=sizekartu\n",
    "p2=population(p_count2,kartu,i_length2,i_min2,i_max2) #btw jenis kuota yg tersedia ada di blok teratas\n",
    "\n",
    "fitness_history2=[grade(p2, target2),]\n",
    "print(\"fitness history awal\",fitness_history2)\n",
    "while (fitness(p2[0], target2) < 4.0):\n",
    "    p2=evolve(p2,target2)\n",
    "    fitness_history2.append(grade(p2,target2))\n",
    "for datum in fitness_history2:\n",
    "    print(datum)"
   ]
  },
  {
   "cell_type": "code",
   "execution_count": 138,
   "metadata": {},
   "outputs": [
    {
     "name": "stdout",
     "output_type": "stream",
     "text": [
      "--------\n",
      "provider: Axis\n",
      "paket: AIGO 2\n",
      "harga: 23500\n",
      "kuota 24h: 2\n",
      "kuota mlm: 0\n",
      "masa pakai: 30\n",
      "--------\n",
      "provider: Axis\n",
      "paket: AIGO Mini 5\n",
      "harga: 32000\n",
      "kuota 24h: 5\n",
      "kuota mlm: 0\n",
      "masa pakai: 15\n",
      "--------\n",
      "provider: Axis\n",
      "paket: AIGO Mini 2\n",
      "harga: 16000\n",
      "kuota 24h: 2\n",
      "kuota mlm: 0\n",
      "masa pakai: 7\n",
      "--------\n",
      "provider: Axis\n",
      "paket: AIGO 1\n",
      "harga: 14000\n",
      "kuota 24h: 1\n",
      "kuota mlm: 0\n",
      "masa pakai: 30\n",
      "fitness:  4\n"
     ]
    }
   ],
   "source": [
    "for z in p2[0]:\n",
    "    print(\"--------\")\n",
    "    z.cekpaket()\n",
    "print(\"fitness: \",fitness(p2[0], target2))"
   ]
  },
  {
   "cell_type": "code",
   "execution_count": null,
   "metadata": {},
   "outputs": [],
   "source": []
  }
 ],
 "metadata": {
  "kernelspec": {
   "display_name": "Python 3",
   "language": "python",
   "name": "python3"
  },
  "language_info": {
   "codemirror_mode": {
    "name": "ipython",
    "version": 3
   },
   "file_extension": ".py",
   "mimetype": "text/x-python",
   "name": "python",
   "nbconvert_exporter": "python",
   "pygments_lexer": "ipython3",
   "version": "3.6.9"
  }
 },
 "nbformat": 4,
 "nbformat_minor": 4
}
